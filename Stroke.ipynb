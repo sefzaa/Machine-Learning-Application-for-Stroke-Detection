{
 "cells": [
  {
   "cell_type": "code",
   "execution_count": 1,
   "metadata": {},
   "outputs": [],
   "source": [
    "#Import Library\n",
    "import pandas as pd\n",
    "from sklearn.model_selection import train_test_split\n",
    "from sklearn.svm import SVC\n",
    "from sklearn.metrics import accuracy_score\n",
    "from sklearn.preprocessing import StandardScaler\n",
    "from sklearn.preprocessing import OneHotEncoder\n",
    "import matplotlib.pyplot as plt\n",
    "import numpy as np\n",
    "import pickle"
   ]
  },
  {
   "cell_type": "code",
   "execution_count": 2,
   "metadata": {},
   "outputs": [],
   "source": [
    "# Membaca dataset\n",
    "data = pd.read_csv(\"stroke.csv\")"
   ]
  },
  {
   "cell_type": "code",
   "execution_count": 3,
   "metadata": {},
   "outputs": [],
   "source": [
    "# Preprocessing data\n",
    "data = data.dropna()  # Menghapus baris dengan nilai kosong/null"
   ]
  },
  {
   "cell_type": "code",
   "execution_count": 4,
   "metadata": {},
   "outputs": [],
   "source": [
    "# Memisahkan atribut dan label\n",
    "X = data.drop(\"stroke\", axis=1)\n",
    "y = data[\"stroke\"]"
   ]
  },
  {
   "cell_type": "code",
   "execution_count": 5,
   "metadata": {},
   "outputs": [],
   "source": [
    "# Membagi data menjadi data latih dan data uji\n",
    "X_train, X_test, y_train, y_test = train_test_split(X, y, test_size=0.1, random_state=42)"
   ]
  },
  {
   "cell_type": "code",
   "execution_count": 6,
   "metadata": {},
   "outputs": [
    {
     "data": {
      "text/html": [
       "<div>\n",
       "<style scoped>\n",
       "    .dataframe tbody tr th:only-of-type {\n",
       "        vertical-align: middle;\n",
       "    }\n",
       "\n",
       "    .dataframe tbody tr th {\n",
       "        vertical-align: top;\n",
       "    }\n",
       "\n",
       "    .dataframe thead th {\n",
       "        text-align: right;\n",
       "    }\n",
       "</style>\n",
       "<table border=\"1\" class=\"dataframe\">\n",
       "  <thead>\n",
       "    <tr style=\"text-align: right;\">\n",
       "      <th></th>\n",
       "      <th>gender</th>\n",
       "      <th>age</th>\n",
       "      <th>hypertension</th>\n",
       "      <th>heart_disease</th>\n",
       "      <th>ever_married</th>\n",
       "      <th>work_type</th>\n",
       "      <th>Residence_type</th>\n",
       "      <th>avg_glucose_level</th>\n",
       "      <th>bmi</th>\n",
       "      <th>smoking_status</th>\n",
       "    </tr>\n",
       "  </thead>\n",
       "  <tbody>\n",
       "    <tr>\n",
       "      <th>0</th>\n",
       "      <td>Female</td>\n",
       "      <td>61.0</td>\n",
       "      <td>0</td>\n",
       "      <td>0</td>\n",
       "      <td>Yes</td>\n",
       "      <td>Self-employed</td>\n",
       "      <td>Rural</td>\n",
       "      <td>202.21</td>\n",
       "      <td>31.555602</td>\n",
       "      <td>never smoked</td>\n",
       "    </tr>\n",
       "    <tr>\n",
       "      <th>1</th>\n",
       "      <td>Female</td>\n",
       "      <td>59.0</td>\n",
       "      <td>0</td>\n",
       "      <td>0</td>\n",
       "      <td>Yes</td>\n",
       "      <td>Private</td>\n",
       "      <td>Rural</td>\n",
       "      <td>76.15</td>\n",
       "      <td>30.242937</td>\n",
       "      <td>Unknown</td>\n",
       "    </tr>\n",
       "    <tr>\n",
       "      <th>2</th>\n",
       "      <td>Male</td>\n",
       "      <td>78.0</td>\n",
       "      <td>0</td>\n",
       "      <td>1</td>\n",
       "      <td>Yes</td>\n",
       "      <td>Private</td>\n",
       "      <td>Urban</td>\n",
       "      <td>219.84</td>\n",
       "      <td>30.698951</td>\n",
       "      <td>Unknown</td>\n",
       "    </tr>\n",
       "    <tr>\n",
       "      <th>3</th>\n",
       "      <td>Male</td>\n",
       "      <td>57.0</td>\n",
       "      <td>0</td>\n",
       "      <td>1</td>\n",
       "      <td>No</td>\n",
       "      <td>Govt_job</td>\n",
       "      <td>Urban</td>\n",
       "      <td>217.08</td>\n",
       "      <td>33.808410</td>\n",
       "      <td>Unknown</td>\n",
       "    </tr>\n",
       "    <tr>\n",
       "      <th>4</th>\n",
       "      <td>Male</td>\n",
       "      <td>58.0</td>\n",
       "      <td>0</td>\n",
       "      <td>0</td>\n",
       "      <td>Yes</td>\n",
       "      <td>Private</td>\n",
       "      <td>Rural</td>\n",
       "      <td>189.84</td>\n",
       "      <td>31.378534</td>\n",
       "      <td>Unknown</td>\n",
       "    </tr>\n",
       "  </tbody>\n",
       "</table>\n",
       "</div>"
      ],
      "text/plain": [
       "   gender   age  hypertension  heart_disease ever_married      work_type  \\\n",
       "0  Female  61.0             0              0          Yes  Self-employed   \n",
       "1  Female  59.0             0              0          Yes        Private   \n",
       "2    Male  78.0             0              1          Yes        Private   \n",
       "3    Male  57.0             0              1           No       Govt_job   \n",
       "4    Male  58.0             0              0          Yes        Private   \n",
       "\n",
       "  Residence_type  avg_glucose_level        bmi smoking_status  \n",
       "0          Rural             202.21  31.555602   never smoked  \n",
       "1          Rural              76.15  30.242937        Unknown  \n",
       "2          Urban             219.84  30.698951        Unknown  \n",
       "3          Urban             217.08  33.808410        Unknown  \n",
       "4          Rural             189.84  31.378534        Unknown  "
      ]
     },
     "execution_count": 6,
     "metadata": {},
     "output_type": "execute_result"
    }
   ],
   "source": [
    "X.head()"
   ]
  },
  {
   "cell_type": "code",
   "execution_count": 7,
   "metadata": {},
   "outputs": [
    {
     "data": {
      "text/plain": [
       "array([31.55560242, 30.24293672, 30.69895144, 33.8084096 , 31.37853385,\n",
       "       33.48456809, 30.04254516, 28.31827337, 28.39789267, 29.13978024,\n",
       "       31.60231714, 29.31669184, 27.95491223, 30.49110683, 29.2929531 ,\n",
       "       30.00388075, 30.19957057, 28.20206936, 32.12036908, 29.21083396,\n",
       "       28.07047196, 29.86377495, 29.58332324, 27.9718569 , 27.94089228,\n",
       "       28.94574986, 18.71925975, 29.79052812, 28.75985626, 27.08627617,\n",
       "       27.28212232, 28.08147438, 32.94704544, 27.24339629, 28.73640015,\n",
       "       31.68403147, 30.76368341, 29.7023726 , 33.07902302, 29.97021868,\n",
       "       30.86316293, 33.73757621, 30.06680535, 31.69708599, 29.9973018 ,\n",
       "       31.19814012, 29.85419033, 20.01842736, 33.11724646, 28.98284356,\n",
       "       26.42080738, 29.01650428, 29.78959992, 26.99728227, 28.38347787,\n",
       "       30.37530703, 22.56279754, 30.19632034, 18.89675834, 33.74964927,\n",
       "       29.61260364, 28.59657852, 20.50813017, 31.6065707 , 32.27387095,\n",
       "       31.89971212, 27.41131447, 29.87649092, 28.54569321, 27.17322224,\n",
       "       28.89969576, 32.29329461, 33.69541657, 19.48319479, 33.74640129,\n",
       "       27.24120741, 29.28032172, 30.71967279, 32.05850252, 28.32809594,\n",
       "       28.61994283, 30.0065731 , 35.18860463, 30.27207404, 30.01381075,\n",
       "       30.5381841 , 29.90470956, 30.62483168, 29.1871094 , 33.17294727,\n",
       "       29.75255436, 32.13017978, 20.26379107, 26.30504092, 28.00456648,\n",
       "       29.0814886 , 32.49735906, 17.89929451, 29.83259311, 31.97914377,\n",
       "       26.28452463, 29.66312371, 28.94406791, 26.59200376, 30.18817465,\n",
       "       27.95614301, 31.79192236, 29.98483083, 30.57492845, 31.47526322,\n",
       "       28.02386638, 28.02871647, 32.43801447, 30.55768732, 30.50487156,\n",
       "       30.16233627, 33.8995756 , 19.03363307, 33.54175007, 33.22529657,\n",
       "       25.9253806 , 30.35215308, 31.80910239, 33.48073407, 31.43023936,\n",
       "       29.9271002 , 30.11158594, 30.78198599, 30.97675858, 28.36584509,\n",
       "       30.75318634, 31.75309029, 31.72016553, 29.94814736, 30.54621551,\n",
       "       31.7235095 , 30.68964575, 28.96839363, 29.95130142, 29.43523729,\n",
       "       29.09959344, 31.84307175, 29.74611603, 32.48706846, 30.05697438,\n",
       "       29.99444194, 19.01877564, 26.52751396, 31.86199055, 18.79763795,\n",
       "       25.65407842, 33.46726941, 29.59559556, 31.09830016, 29.7869446 ,\n",
       "       19.42819562, 28.40291026, 31.23118631, 29.23491654, 31.75340319,\n",
       "       31.49742204, 26.43722276, 32.13064964, 20.11991533, 26.52504773,\n",
       "       27.32855856, 31.74926345, 29.42025235, 33.17530861, 31.17927646,\n",
       "       28.64225263, 30.87306208, 30.6976502 , 18.79920979, 32.72165505,\n",
       "       29.75663127, 31.12417217, 31.79830364, 29.09742107])"
      ]
     },
     "execution_count": 7,
     "metadata": {},
     "output_type": "execute_result"
    }
   ],
   "source": [
    "X.bmi.unique()"
   ]
  },
  {
   "cell_type": "code",
   "execution_count": 8,
   "metadata": {},
   "outputs": [],
   "source": [
    "from sklearn.pipeline import Pipeline\n",
    "from sklearn.compose import ColumnTransformer\n",
    "from sklearn.preprocessing import OrdinalEncoder\n",
    "from sklearn.ensemble import RandomForestClassifier\n",
    "from sklearn.preprocessing import StandardScaler\n",
    "\n",
    "# Memisahkan atribut kategorikal dan angka untuk data train\n",
    "categorical_data_train = X_train[['gender', 'ever_married', 'work_type', \n",
    "                      'Residence_type', 'smoking_status']]\n",
    "\n",
    "numerical_data_train = X_train[['age', 'hypertension', 'heart_disease',\n",
    "                    'avg_glucose_level', 'bmi']]\n",
    "\n",
    "# menggabungkan data train\n",
    "X_train_final = pd.concat([categorical_data_train, numerical_data_train], axis=1)\n",
    "\n",
    "\n",
    "# Memisahkan atribut kategorikal dan angka untuk data test\n",
    "categorical_data_test = X_test[['gender', 'ever_married', 'work_type', \n",
    "                      'Residence_type', 'smoking_status']]\n",
    "\n",
    "numerical_data_test = X_test[['age', 'hypertension', 'heart_disease',\n",
    "                    'avg_glucose_level', 'bmi']]\n",
    "\n",
    "# menggabungkan data test\n",
    "X_test_final = pd.concat([categorical_data_test, numerical_data_test], axis=1)\n",
    "\n",
    "# mengambil value dari kolom\n",
    "cat_col = categorical_data_train.columns.values\n",
    "num_col = numerical_data_train.columns.values\n",
    "\n",
    "# membuat pipeline data kategori\n",
    "categorical_pipe = Pipeline([\n",
    "    ('ordinal_encoder', OneHotEncoder())\n",
    "    ])\n",
    "\n",
    "# membuat pipeline data angka\n",
    "numerical_pipe = Pipeline([\n",
    "    ('numerical_encode', StandardScaler())\n",
    "    ])\n",
    "\n",
    "# membuat pipeline model SVM dengan kernel polynomial\n",
    "model_pipe = Pipeline([\n",
    "    ('model_rf', SVC(kernel='poly', random_state=89))\n",
    "    ])\n",
    "\n",
    "# menggabungkan semua pipeline\n",
    "preprocess = ColumnTransformer([\n",
    "    ('cat', categorical_pipe, cat_col),\n",
    "    ('num', numerical_pipe, num_col)\n",
    "    ])\n",
    "\n",
    "\n",
    "pipe = Pipeline(steps=[('preprocess', preprocess), ('svc', model_pipe)])"
   ]
  },
  {
   "cell_type": "code",
   "execution_count": 9,
   "metadata": {},
   "outputs": [
    {
     "name": "stdout",
     "output_type": "stream",
     "text": [
      "Akurasi: 0.9047619047619048\n"
     ]
    }
   ],
   "source": [
    "#Cross-Validation GridSearchCV\n",
    "from sklearn.model_selection import GridSearchCV\n",
    "\n",
    "# Membuat dictionary berisi parameter yang akan dicoba pada SVM\n",
    "param_grid = {\n",
    "    'svc__model_rf__C': [0.1, 1, 10],\n",
    "    'svc__model_rf__gamma': [0.1, 0.01, 0.001],\n",
    "    'svc__model_rf__degree': [2, 3, 4]\n",
    "}\n",
    "\n",
    "# Membuat objek GridSearchCV dengan pipeline dan parameter grid\n",
    "grid_search = GridSearchCV(pipe, param_grid, cv=5)\n",
    "\n",
    "# Melakukan fitting pada data latih dengan GridSearchCV\n",
    "grid_search.fit(X_train_final, y_train)\n",
    "\n",
    "# Mendapatkan model terbaik dari GridSearchCV\n",
    "best_model = grid_search.best_estimator_\n",
    "\n",
    "# Melakukan prediksi dengan model terbaik pada data uji\n",
    "y_pred = best_model.predict(X_test_final)\n",
    "\n",
    "# Menampilkan akurasi\n",
    "accuracy = accuracy_score(y_test, y_pred)\n",
    "print(\"Akurasi:\", accuracy)"
   ]
  },
  {
   "cell_type": "code",
   "execution_count": 10,
   "metadata": {},
   "outputs": [
    {
     "data": {
      "image/png": "[encoded data removed]",
      "text/plain": [
       "<Figure size 800x600 with 1 Axes>"
      ]
     },
     "metadata": {},
     "output_type": "display_data"
    }
   ],
   "source": [
    "# Memvisualisasikan hasil prediksi\n",
    "plt.figure(figsize=(8, 6))\n",
    "plt.scatter(np.arange(len(y_test)), y_test, color='blue', label='Aktual')\n",
    "plt.scatter(np.arange(len(y_pred)), y_pred, color='red', label='Prediksi')\n",
    "plt.title('Hasil Prediksi')\n",
    "plt.xlabel('Data Uji')\n",
    "plt.ylabel('Stroke')\n",
    "plt.legend()\n",
    "plt.show()"
   ]
  },
  {
   "cell_type": "code",
   "execution_count": 11,
   "metadata": {},
   "outputs": [],
   "source": [
    "# Menyimpan model terbaik\n",
    "with open('model.pkl', 'wb') as file:\n",
    "    pickle.dump(best_model, file)"
   ]
  }
 ],
 "metadata": {
  "kernelspec": {
   "display_name": "nlp",
   "language": "python",
   "name": "python3"
  },
  "language_info": {
   "codemirror_mode": {
    "name": "ipython",
    "version": 3
   },
   "file_extension": ".py",
   "mimetype": "text/x-python",
   "name": "python",
   "nbconvert_exporter": "python",
   "pygments_lexer": "ipython3",
   "version": "3.11.2"
  },
  "orig_nbformat": 4
 },
 "nbformat": 4,
 "nbformat_minor": 2
}
